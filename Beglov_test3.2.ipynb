{
 "cells": [
  {
   "cell_type": "code",
   "execution_count": 1,
   "id": "92808148",
   "metadata": {},
   "outputs": [],
   "source": [
    "import pandas as pd\n",
    "import matplotlib.pyplot as plt\n",
    "import numpy as np\n",
    "from sklearn.linear_model import LinearRegression\n",
    "import json"
   ]
  },
  {
   "cell_type": "code",
   "execution_count": 2,
   "id": "c9aa73f6",
   "metadata": {},
   "outputs": [],
   "source": [
    "orders = pd.read_csv('orders.csv')\n",
    "sales = pd.read_csv('sales.csv')\n",
    "user = pd.read_csv('user.csv')\n",
    "store = pd.read_csv('store.csv')\n",
    "product = pd.read_csv('product.csv')"
   ]
  },
  {
   "cell_type": "code",
   "execution_count": 3,
   "id": "a90045ea",
   "metadata": {},
   "outputs": [],
   "source": [
    "# В данных столбец orders['product_info'] представлен в некорректном формате. Формат JSON предполагает, что строка\n",
    "# заключена в двойные кавычки, а не одинарные, а также, True и False должны быть написаны с маленькой буквы\n",
    "# иначе мы просто не сможем корректно считать json-строку. Исправим это:\n",
    "orders['product_info'] = orders['product_info'].replace('\\'', '\"', regex=True).replace('True', 'true', regex=True).replace('False', 'false', regex=True)\n",
    "orders['product_info'] = orders['product_info'].apply(json.loads)\n",
    "new_ord = orders.explode('product_info')\n",
    "new_ord = new_ord.reset_index(drop=True)\n",
    "orders = pd.concat([new_ord, pd.DataFrame(new_ord['product_info'].tolist())], axis=1)\n",
    "del new_ord\n",
    "del orders['product_info']\n",
    "del sales['id']"
   ]
  },
  {
   "cell_type": "code",
   "execution_count": 4,
   "id": "98672a1a",
   "metadata": {},
   "outputs": [],
   "source": [
    "orders = pd.merge(orders, sales[['order_id', 'product_id', 'is_canceled', 'is_accepted']], on=['order_id', 'product_id'])\n",
    "orders = orders[((orders['is_canceled'] == False) & (orders['is_accepted'] == True)) | (orders['is_canceled'] == False) & (orders['is_accepted'] == False)]\n",
    "orders['order_date'] = pd.to_datetime(orders['order_date'])"
   ]
  },
  {
   "cell_type": "code",
   "execution_count": 5,
   "id": "ca4c5bc8",
   "metadata": {},
   "outputs": [
    {
     "data": {
      "image/png": "[encoded data removed]",
      "text/plain": [
       "<Figure size 432x288 with 1 Axes>"
      ]
     },
     "metadata": {
      "needs_background": "light"
     },
     "output_type": "display_data"
    }
   ],
   "source": [
    "mth = orders.set_index('order_date', inplace=True)\n",
    "mth = orders['count'].resample('M').sum()\n",
    "del mth['2023-11-30']\n",
    "# Будем предполагать, что распределение товаров по магазинам не зависит от времени или по крайней мере за месяц меняется\n",
    "# незначительно\n",
    "#Воспользуемся моделью линейной регрессии. Изобразим зависимость общего количества продаж от вермени\n",
    "x = mth.index.tolist()\n",
    "y = mth.values.tolist()\n",
    "plt.xlabel('Время')\n",
    "plt.ylabel('Кол-во продаж')\n",
    "plt.plot(x, y, 'o')\n",
    "plt.show()"
   ]
  },
  {
   "cell_type": "code",
   "execution_count": 6,
   "id": "0ab80efc",
   "metadata": {},
   "outputs": [
    {
     "data": {
      "image/png": "[encoded data removed]",
      "text/plain": [
       "<Figure size 432x288 with 1 Axes>"
      ]
     },
     "metadata": {
      "needs_background": "light"
     },
     "output_type": "display_data"
    }
   ],
   "source": [
    "#Как видим, зависимость от времени мало похожа на линейную. Попробуем прологарифмировать количество продаж\n",
    "y = np.log(y)\n",
    "plt.xlabel('Время')\n",
    "plt.ylabel('Кол-во продаж')\n",
    "x = np.arange(len(x))\n",
    "plt.plot(x, y, 'o')\n",
    "plt.show()\n"
   ]
  },
  {
   "cell_type": "code",
   "execution_count": 7,
   "id": "16b2d019",
   "metadata": {},
   "outputs": [
    {
     "name": "stdout",
     "output_type": "stream",
     "text": [
      "Прогноз роста продаж на следующие 3 месяца: 350000, \n",
      "416000, 494000\n"
     ]
    }
   ],
   "source": [
    "# Как видим, действительно количество продаж растёт экспоненциально, так как после\n",
    "# логарифмирования мы наблюдаем линейный график\n",
    "# Воспользуемся теперь моделью линейной регрессии с одним предиктором\n",
    "model = LinearRegression()\n",
    "results = model.fit(np.arange(len(x)).reshape(-1, 1), y)\n",
    "#Предскажем значение продаж\n",
    "x_new = np.array([22, 23, 24]).reshape(-1, 1)\n",
    "y_pred = model.predict(x_new)\n",
    "print(f'''Прогноз роста продаж на следующие 3 месяца: {int(round(np.exp(y_pred)[0], -3))}, \n",
    "{int(round(np.exp(y_pred)[1], -3))}, {int(round(np.exp(y_pred)[2], -3))}''')"
   ]
  },
  {
   "cell_type": "code",
   "execution_count": 8,
   "id": "b7fd28e7",
   "metadata": {},
   "outputs": [
    {
     "data": {
      "image/png": "[encoded data removed]",
      "text/plain": [
       "<Figure size 432x288 with 1 Axes>"
      ]
     },
     "metadata": {
      "needs_background": "light"
     },
     "output_type": "display_data"
    }
   ],
   "source": [
    "plt.xlabel('Время')\n",
    "plt.ylabel('Кол-во продаж')\n",
    "x = np.arange(len(x))\n",
    "plt.plot(x, y, 'o')\n",
    "x1 = np.arange(0, 21, 0.1)\n",
    "plt.plot(x1, model.intercept_ + x1 * model.coef_)\n",
    "plt.show()"
   ]
  },
  {
   "cell_type": "code",
   "execution_count": 9,
   "id": "1a744725",
   "metadata": {},
   "outputs": [],
   "source": [
    "# Прогноз продаж в следующем месяце с учётом предположения о том что распределение количество покупаемых товаров\n",
    "# по магазинам не зависит от времени\n",
    "next_month = int(round(np.exp(y_pred)[0], -3))\n",
    "orders = pd.merge(orders, store, on='store_id')\n",
    "sales_by_shop = orders.groupby(['product_id', 'store_name'])['count'].sum().reset_index()\n",
    "all_count = orders['count'].sum()\n",
    "sales_by_shop['next_month_expec'] = round(sales_by_shop['count'] / all_count * next_month)\n",
    "sales_by_shop = sales_by_shop[['store_name', 'product_id', 'next_month_expec']].sort_values(['store_name', 'product_id']).reset_index(drop=True)\n",
    "# В датафреймме sales_by_shop лежит ожидаемое значение всех товаров во всех магазинах которое должно находится на складе\n",
    "# на следующий месяц"
   ]
  },
  {
   "cell_type": "code",
   "execution_count": 10,
   "id": "dfb71092",
   "metadata": {},
   "outputs": [
    {
     "data": {
      "text/html": [
       "<div>\n",
       "<style scoped>\n",
       "    .dataframe tbody tr th:only-of-type {\n",
       "        vertical-align: middle;\n",
       "    }\n",
       "\n",
       "    .dataframe tbody tr th {\n",
       "        vertical-align: top;\n",
       "    }\n",
       "\n",
       "    .dataframe thead th {\n",
       "        text-align: right;\n",
       "    }\n",
       "</style>\n",
       "<table border=\"1\" class=\"dataframe\">\n",
       "  <thead>\n",
       "    <tr style=\"text-align: right;\">\n",
       "      <th></th>\n",
       "      <th>store_name</th>\n",
       "      <th>product_id</th>\n",
       "      <th>next_month_expec</th>\n",
       "    </tr>\n",
       "  </thead>\n",
       "  <tbody>\n",
       "    <tr>\n",
       "      <th>0</th>\n",
       "      <td>Afimoll</td>\n",
       "      <td>1</td>\n",
       "      <td>3.0</td>\n",
       "    </tr>\n",
       "    <tr>\n",
       "      <th>1</th>\n",
       "      <td>Afimoll</td>\n",
       "      <td>2</td>\n",
       "      <td>2.0</td>\n",
       "    </tr>\n",
       "    <tr>\n",
       "      <th>2</th>\n",
       "      <td>Afimoll</td>\n",
       "      <td>3</td>\n",
       "      <td>2.0</td>\n",
       "    </tr>\n",
       "    <tr>\n",
       "      <th>3</th>\n",
       "      <td>Afimoll</td>\n",
       "      <td>4</td>\n",
       "      <td>3.0</td>\n",
       "    </tr>\n",
       "    <tr>\n",
       "      <th>4</th>\n",
       "      <td>Afimoll</td>\n",
       "      <td>5</td>\n",
       "      <td>4.0</td>\n",
       "    </tr>\n",
       "    <tr>\n",
       "      <th>...</th>\n",
       "      <td>...</td>\n",
       "      <td>...</td>\n",
       "      <td>...</td>\n",
       "    </tr>\n",
       "    <tr>\n",
       "      <th>54483</th>\n",
       "      <td>Tsvetnoy</td>\n",
       "      <td>3716</td>\n",
       "      <td>2.0</td>\n",
       "    </tr>\n",
       "    <tr>\n",
       "      <th>54484</th>\n",
       "      <td>Tsvetnoy</td>\n",
       "      <td>3717</td>\n",
       "      <td>2.0</td>\n",
       "    </tr>\n",
       "    <tr>\n",
       "      <th>54485</th>\n",
       "      <td>Tsvetnoy</td>\n",
       "      <td>3718</td>\n",
       "      <td>2.0</td>\n",
       "    </tr>\n",
       "    <tr>\n",
       "      <th>54486</th>\n",
       "      <td>Tsvetnoy</td>\n",
       "      <td>3719</td>\n",
       "      <td>2.0</td>\n",
       "    </tr>\n",
       "    <tr>\n",
       "      <th>54487</th>\n",
       "      <td>Tsvetnoy</td>\n",
       "      <td>3720</td>\n",
       "      <td>2.0</td>\n",
       "    </tr>\n",
       "  </tbody>\n",
       "</table>\n",
       "<p>54488 rows × 3 columns</p>\n",
       "</div>"
      ],
      "text/plain": [
       "      store_name  product_id  next_month_expec\n",
       "0        Afimoll           1               3.0\n",
       "1        Afimoll           2               2.0\n",
       "2        Afimoll           3               2.0\n",
       "3        Afimoll           4               3.0\n",
       "4        Afimoll           5               4.0\n",
       "...          ...         ...               ...\n",
       "54483   Tsvetnoy        3716               2.0\n",
       "54484   Tsvetnoy        3717               2.0\n",
       "54485   Tsvetnoy        3718               2.0\n",
       "54486   Tsvetnoy        3719               2.0\n",
       "54487   Tsvetnoy        3720               2.0\n",
       "\n",
       "[54488 rows x 3 columns]"
      ]
     },
     "execution_count": 10,
     "metadata": {},
     "output_type": "execute_result"
    }
   ],
   "source": [
    "sales_by_shop"
   ]
  },
  {
   "cell_type": "code",
   "execution_count": null,
   "id": "3cdb7a10",
   "metadata": {},
   "outputs": [],
   "source": []
  }
 ],
 "metadata": {
  "kernelspec": {
   "display_name": "Python 3 (ipykernel)",
   "language": "python",
   "name": "python3"
  },
  "language_info": {
   "codemirror_mode": {
    "name": "ipython",
    "version": 3
   },
   "file_extension": ".py",
   "mimetype": "text/x-python",
   "name": "python",
   "nbconvert_exporter": "python",
   "pygments_lexer": "ipython3",
   "version": "3.9.12"
  }
 },
 "nbformat": 4,
 "nbformat_minor": 5
}
