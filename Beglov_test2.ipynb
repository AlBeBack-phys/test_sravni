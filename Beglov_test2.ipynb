{
 "cells": [
  {
   "cell_type": "code",
   "execution_count": 2,
   "id": "9fecc773",
   "metadata": {},
   "outputs": [],
   "source": [
    "from pandasql import sqldf\n",
    "import pandas as pd\n",
    "import json"
   ]
  },
  {
   "cell_type": "code",
   "execution_count": 3,
   "id": "ba3726ef",
   "metadata": {},
   "outputs": [],
   "source": [
    "orders = pd.read_csv('orders.csv')\n",
    "sales = pd.read_csv('sales.csv')\n",
    "user = pd.read_csv('user.csv')\n",
    "store = pd.read_csv('store.csv')\n",
    "product = pd.read_csv('product.csv')\n",
    "orders = orders[:len(orders) // 100]"
   ]
  },
  {
   "cell_type": "code",
   "execution_count": 4,
   "id": "cb85347a",
   "metadata": {},
   "outputs": [],
   "source": [
    "# В данных столбец orders['product_info'] представлен в некорректном формате. Формат JSON предполагает, что строка\n",
    "# заключена в двойные кавычки, а не одинарные, а также, True и False должны быть написаны с маленькой буквы\n",
    "# иначе мы просто не сможем корректно считать json-строку. Исправим это:\n",
    "orders['product_info'] = orders['product_info'].replace('\\'', '\"', regex=True).replace('True', 'true', regex=True).replace('False', 'false', regex=True)"
   ]
  },
  {
   "cell_type": "code",
   "execution_count": 5,
   "id": "4031f31a",
   "metadata": {},
   "outputs": [],
   "source": [
    "query = '''\n",
    "/*\n",
    "Считываем информацию из колонки product_info.\n",
    "ВАЖНО: В колонке product_info лежат поломанные JSON'ы, не соответствующие правильному формату.\n",
    "Формат JSON предполагает, что строка заключена в двойные кавычки, а не одинарные, а также, True и False \n",
    "должны быть написаны с маленькой буквы, иначе мы просто не сможем корректно считать json-строку.\n",
    "Чтобы это починить после считывания данных в pandas добавляем строку:\n",
    "orders['product_info'] = orders['product_info'].replace('\\'', '\"', regex=True).replace('True', 'true', regex=True).replace('False', 'false', regex=True)\n",
    "*/\n",
    "WITH product_info AS (\n",
    "SELECT\n",
    "    order_id,\n",
    "    json_extract(value, '$.product_id') AS product_id,\n",
    "    json_extract(value, '$.product_price') AS product_price,\n",
    "    json_extract(value, '$.product_comission') AS product_comission,\n",
    "    json_extract(value, '$.count') AS count\n",
    "FROM\n",
    "    orders,\n",
    "    json_each(orders.product_info)\n",
    "),\n",
    "/*\n",
    "Уберём лишние столбцы из таблицы sales, чтобы они не мешали JOIN'ам\n",
    "*/\n",
    "s AS (\n",
    "SELECT\n",
    "    order_id,\n",
    "    product_id,\n",
    "    is_canceled,\n",
    "    is_accepted\n",
    "FROM sales\n",
    ")\n",
    "    \n",
    "SELECT\n",
    "    o.user_id,\n",
    "    o.order_id,\n",
    "    o.order_date,\n",
    "    SUM(p.product_price * p.count) AS order_sum,\n",
    "    SUM(p.product_comission * p.count) AS order_revenue,\n",
    "    SUM(p.count) AS order_quantity,\n",
    "    COUNT(DISTINCT p.product_id) AS order_unique_products\n",
    "FROM orders o\n",
    "JOIN s ON o.order_id = s.order_id\n",
    "JOIN product_info p ON o.order_id = p.order_id AND s.product_id = p.product_id\n",
    "WHERE s.is_accepted = 1 AND s.is_canceled = 0\n",
    "GROUP BY o.user_id, o.order_id, o.order_date\n",
    "'''\n",
    "\n",
    "result = sqldf(query)"
   ]
  }
 ],
 "metadata": {
  "kernelspec": {
   "display_name": "Python 3 (ipykernel)",
   "language": "python",
   "name": "python3"
  },
  "language_info": {
   "codemirror_mode": {
    "name": "ipython",
    "version": 3
   },
   "file_extension": ".py",
   "mimetype": "text/x-python",
   "name": "python",
   "nbconvert_exporter": "python",
   "pygments_lexer": "ipython3",
   "version": "3.9.12"
  }
 },
 "nbformat": 4,
 "nbformat_minor": 5
}
