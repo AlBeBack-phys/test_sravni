{
 "cells": [
  {
   "cell_type": "code",
   "execution_count": 3,
   "id": "c7bef524",
   "metadata": {},
   "outputs": [],
   "source": [
    "from pandasql import sqldf\n",
    "import pandas as pd"
   ]
  },
  {
   "cell_type": "code",
   "execution_count": 4,
   "id": "0f4bce8e",
   "metadata": {},
   "outputs": [],
   "source": [
    "events = pd.read_csv('events.csv')"
   ]
  },
  {
   "cell_type": "code",
   "execution_count": 5,
   "id": "e68c55fb",
   "metadata": {},
   "outputs": [],
   "source": [
    "query = '''\n",
    "/* Создадим таблицу в которую запишем информацию о текущем и предыдущем событиях для данного юзера */\n",
    "\n",
    "WITH SessionData AS (\n",
    "    SELECT\n",
    "        user_id,\n",
    "        event_dtm,\n",
    "        event_name,\n",
    "        LAG(event_name) OVER (PARTITION BY user_id ORDER BY event_dtm) AS previous_event,\n",
    "        LAG(event_dtm) OVER (PARTITION BY user_id ORDER BY event_dtm) AS previous_event_dtm\n",
    "    FROM events\n",
    "),\n",
    "\n",
    "/* Далее, найдём первые и последние события в сессиях с учётом условий, обозначенных в формулировке задачи */\n",
    "\n",
    "SessionStarts AS (\n",
    "    SELECT\n",
    "        user_id,\n",
    "        event_dtm AS session_start_dtm,\n",
    "        ROW_NUMBER() OVER (PARTITION BY user_id ORDER BY event_dtm) AS session_number\n",
    "    FROM SessionData\n",
    "    WHERE event_name = 'session_start'\n",
    "        OR previous_event = 'session_end'\n",
    "        OR previous_event IS NULL\n",
    "        OR (- strftime('%s', previous_event_dtm) + strftime('%s', event_dtm)) / 60 > 30\n",
    "        OR DATE(previous_event_dtm) <> DATE(event_dtm )\n",
    "),\n",
    "\n",
    "SessionEnds AS (\n",
    "    SELECT\n",
    "        user_id,\n",
    "        previous_event_dtm AS session_end_dtm,\n",
    "        ROW_NUMBER() OVER (PARTITION BY user_id ORDER BY event_dtm) AS session_number\n",
    "    FROM SessionData\n",
    "    WHERE previous_event = 'session_end'\n",
    "        OR event_name = 'session_start'\n",
    "        OR (- strftime('%s', previous_event_dtm) + strftime('%s', event_dtm)) / 60 > 30\n",
    "        OR DATE(previous_event_dtm) <> DATE(event_dtm)\n",
    "),\n",
    "\n",
    "/* Найдём всех зарегистрированных юзеров - таких у которых в истории есть событие \"purchase\" */\n",
    "\n",
    "Clients AS (\n",
    "    SELECT DISTINCT\n",
    "        user_id\n",
    "    FROM SessionData\n",
    "    WHERE event_name = 'purchase'\n",
    ")\n",
    "\n",
    "/* Соберём всё в один запрос. В качестве session_id можно взять просто пронумерованные сессии */\n",
    "\n",
    "SELECT\n",
    "    ROW_NUMBER() OVER() - 1 AS session_id,\n",
    "    ss.user_id,\n",
    "    ss.session_start_dtm,\n",
    "    se.session_end_dtm,\n",
    "    ss.session_number,\n",
    "    CASE WHEN Clients.user_id IS NOT NULL THEN 1 ELSE 0 END AS is_client\n",
    "    /* Так как мы присоединили таблицу с клиентами левым джоином, напротив у тех клиентов которых нет в таблице Clients\n",
    "    поле Clients.user_id будет равно NULL */\n",
    "FROM SessionStarts ss\n",
    "JOIN SessionEnds se ON ss.user_id = se.user_id AND ss.session_number = se.session_number\n",
    "LEFT JOIN Clients ON ss.user_id = Clients.user_id\n",
    "ORDER BY ss.user_id, ss.session_start_dtm;\n",
    "'''\n",
    "\n",
    "result = sqldf(query)"
   ]
  }
 ],
 "metadata": {
  "kernelspec": {
   "display_name": "Python 3 (ipykernel)",
   "language": "python",
   "name": "python3"
  },
  "language_info": {
   "codemirror_mode": {
    "name": "ipython",
    "version": 3
   },
   "file_extension": ".py",
   "mimetype": "text/x-python",
   "name": "python",
   "nbconvert_exporter": "python",
   "pygments_lexer": "ipython3",
   "version": "3.9.12"
  }
 },
 "nbformat": 4,
 "nbformat_minor": 5
}
